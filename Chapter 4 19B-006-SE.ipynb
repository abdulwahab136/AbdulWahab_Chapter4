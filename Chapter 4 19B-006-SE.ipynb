{
 "cells": [
  {
   "cell_type": "code",
   "execution_count": 6,
   "metadata": {},
   "outputs": [
    {
     "name": "stdout",
     "output_type": "stream",
     "text": [
      "a)  234\n",
      "b)  78\n",
      "a)  12345678\n",
      "a)  0123\n",
      "a)  789\n"
     ]
    }
   ],
   "source": [
    "#4.1\n",
    "s = '0123456789'\n",
    "print('a) ',s[2:5])\n",
    "print('b) ',s[7:9])\n",
    "print('a) ',s[1:9])\n",
    "print('a) ',s[0:4])\n",
    "print('a) ',s[7:10])"
   ]
  },
  {
   "cell_type": "code",
   "execution_count": 8,
   "metadata": {},
   "outputs": [
    {
     "name": "stdout",
     "output_type": "stream",
     "text": [
      "Number of times day appear :  2\n",
      "Sunny is on index :  13\n",
      "Sentence with cloudy instead of sunny  It will be a cloudy day today\n"
     ]
    }
   ],
   "source": [
    "#4.2\n",
    "forecast = 'It will be a sunny day today'\n",
    "count = forecast.count('day')\n",
    "weather = forecast.find('sunny')\n",
    "change = forecast.replace('sunny', 'cloudy')\n",
    "print(\"Number of times day appear : \",count)\n",
    "print(\"Sunny is on index : \",weather)\n",
    "print(\"Sentence with cloudy instead of sunny \",change)"
   ]
  },
  {
   "cell_type": "code",
   "execution_count": 9,
   "metadata": {},
   "outputs": [
    {
     "name": "stdout",
     "output_type": "stream",
     "text": [
      "Smith\tJohn\tPaul\n"
     ]
    }
   ],
   "source": [
    "#4.3\n",
    "last = 'Smith'\n",
    "first = 'John'\n",
    "middle = 'Paul'\n",
    "print(last, first, middle, sep='\\t')"
   ]
  },
  {
   "cell_type": "code",
   "execution_count": 12,
   "metadata": {},
   "outputs": [
    {
     "name": "stdout",
     "output_type": "stream",
     "text": [
      "2, 3, 4, 6, 8, 9, 10, 12, 14, 15, 16, "
     ]
    }
   ],
   "source": [
    "#4.4\n",
    "def even(n):\n",
    "    for i in range(2, n+1):\n",
    "        if i%2 == 0 or i%3 == 0:\n",
    "            print(i, end=', ')\n",
    "even(17)"
   ]
  },
  {
   "cell_type": "code",
   "execution_count": 13,
   "metadata": {},
   "outputs": [
    {
     "name": "stdout",
     "output_type": "stream",
     "text": [
      "Abdul Wahab\n",
      "Street # 2\n",
      "karachi\n",
      "74400\n"
     ]
    }
   ],
   "source": [
    "#4.5\n",
    "Name = 'Abdul Wahab'\n",
    "street = 'Street # 2'\n",
    "city = 'karachi'\n",
    "zipcode = '74400'\n",
    "print(\"{0}\\n{1}\\n{2}\\n{3}\".format(Name,street,city,zipcode))"
   ]
  },
  {
   "cell_type": "code",
   "execution_count": 21,
   "metadata": {},
   "outputs": [
    {
     "name": "stdout",
     "output_type": "stream",
     "text": [
      "Last      First      Class     Average  Grade\n",
      "DeMoines  Jim       Sophomore      3.45\n",
      "Pierre    Sophie    Sophomore      4.00\n",
      "Columbus  Maria     Senior         2.50\n",
      "Phoenix   River     Junior         2.45\n",
      "Olympis   Edgar     Junior         3.99\n"
     ]
    }
   ],
   "source": [
    "#4.6\n",
    "students = []\n",
    "students.append(['DeMoines', 'Jim', 'Sophomore', 3.45])\n",
    "students.append(['Pierre', 'Sophie', 'Sophomore', 4.0])\n",
    "students.append(['Columbus', 'Maria', 'Senior', 2.5])\n",
    "students.append(['Phoenix', 'River', 'Junior', 2.45])\n",
    "students.append(['Olympis', 'Edgar', 'Junior', 3.99])\n",
    "print('Last      First      Class     Average  Grade')\n",
    "for student in students:\n",
    "    print('{:10}{:10}{:10} {:8.2f}'.format(student[0],student[1], student[2], student[3]))"
   ]
  },
  {
   "cell_type": "code",
   "execution_count": 25,
   "metadata": {},
   "outputs": [
    {
     "name": "stdout",
     "output_type": "stream",
     "text": [
      "a) Friday, July 14 2017\n",
      "b) 07:40 AM Pakistan Standard Time on 07/14/2017\n",
      "c) I will meet you on Fri July 14 at 07:40 AM.\n"
     ]
    }
   ],
   "source": [
    "#4.7\n",
    "import time\n",
    "t = time.localtime(1500000000)\n",
    "print(\"a)\",time.strftime('%A, %B %d %Y', t)) \n",
    "print(\"b)\",time.strftime('%I:%M %p %Z on %m/%d/%Y',t))\n",
    "print(\"c)\", time.strftime('I will meet you on %a %B %d at %I:%M %p.', t))"
   ]
  },
  {
   "cell_type": "code",
   "execution_count": 34,
   "metadata": {},
   "outputs": [
    {
     "data": {
      "text/plain": [
       "1"
      ]
     },
     "execution_count": 34,
     "metadata": {},
     "output_type": "execute_result"
    }
   ],
   "source": [
    "#4.8\n",
    "def stringCount(filename, target):\n",
    "    \n",
    "    infile = open(filename)\n",
    "    content = infile.read()\n",
    "    infile.close()\n",
    "    return content.count(target)\n",
    "stringCount('sentence.txt', 'This')"
   ]
  },
  {
   "cell_type": "code",
   "execution_count": 39,
   "metadata": {},
   "outputs": [
    {
     "data": {
      "text/plain": [
       "['this',\n",
       " 'is',\n",
       " 'file',\n",
       " 'used',\n",
       " 'as',\n",
       " 'an',\n",
       " 'experiment',\n",
       " 'for',\n",
       " 'the',\n",
       " 'concept',\n",
       " 'of',\n",
       " 'filing',\n",
       " 'and',\n",
       " 'completing',\n",
       " 'chapter',\n",
       " '4']"
      ]
     },
     "execution_count": 39,
     "metadata": {},
     "output_type": "execute_result"
    }
   ],
   "source": [
    "#4.9\n",
    "def words(filename):\n",
    "    \n",
    "    infile = open(filename, 'r')\n",
    "    content = infile.read()\n",
    "    infile.close()\n",
    "    table = str.maketrans('!,.:;?', 6*' ')\n",
    "    content=content.translate(table)\n",
    "    content=content.lower()\n",
    "    return content.split()\n",
    "words('sentence.txt')"
   ]
  },
  {
   "cell_type": "code",
   "execution_count": 41,
   "metadata": {},
   "outputs": [
    {
     "name": "stdout",
     "output_type": "stream",
     "text": [
      "This is file used as an experiment\n"
     ]
    }
   ],
   "source": [
    "#4.10\n",
    "def myGrep(filename, target):\n",
    "\n",
    "    infile = open(filename)\n",
    "    for line in infile:\n",
    "        if target in line:\n",
    "            print(line, end='')\n",
    "myGrep('Sentence.txt','This')"
   ]
  },
  {
   "cell_type": "code",
   "execution_count": 48,
   "metadata": {},
   "outputs": [
    {
     "name": "stdout",
     "output_type": "stream",
     "text": [
      "[7]\n",
      "7\n"
     ]
    }
   ],
   "source": [
    "#4.11\n",
    "#(3+4] proper brackets not used, if it's (3+4) it will be 7 and if its [3+4] it will be list containing int 7\n",
    "print([3+4])\n",
    "print((3+4))\n",
    "#if x == 5 colons not used\n",
    "#print 'hello' since hello is a function arguments should be inserted in brackets print('hello\n",
    "#lst = [4;5;6] commas are used as sepretor not semi colons\n",
    "#for i in range(10): \n",
    "#print(i) intendation not given , 5 spaces should've been given"
   ]
  },
  {
   "cell_type": "code",
   "execution_count": 61,
   "metadata": {},
   "outputs": [
    {
     "name": "stdout",
     "output_type": "stream",
     "text": [
      "a) bcd\n",
      "b) abc\n",
      "c) defghijklmnopqrstuvwx\n",
      "d) wxy\n",
      "e) wxyz\n"
     ]
    }
   ],
   "source": [
    "#4.12\n",
    "s = 'abcdefghijklmnopqrstuvwxyz'\n",
    "print('a)',s[1:4])\n",
    "print('b)',s[0:3])\n",
    "print('c)',s[3:-2])\n",
    "print('d)',s[-4:-1])\n",
    "print('e)',s[-4:27])"
   ]
  },
  {
   "cell_type": "code",
   "execution_count": 72,
   "metadata": {},
   "outputs": [
    {
     "name": "stdout",
     "output_type": "stream",
     "text": [
      "a) False\n",
      "b) True\n",
      "c) True\n",
      "d) bcdefghijklmnopqrstuvwxy\n"
     ]
    }
   ],
   "source": [
    "#4.13\n",
    "s = 'abcdefghijklmnopqrstuvwxyz'\n",
    "print('a)',s[2:4]=='bc')\n",
    "print('b)',s[0:14]=='abcdefghijklmn')\n",
    "print('c)',s[14:]=='opqrstuvwxyz')\n",
    "print('d)',s[1:-1])"
   ]
  },
  {
   "cell_type": "code",
   "execution_count": 78,
   "metadata": {},
   "outputs": [
    {
     "name": "stdout",
     "output_type": "stream",
     "text": [
      "128.0.0.1\n",
      "12/Feb/2011:10:31:08 -0600\n"
     ]
    }
   ],
   "source": [
    "#4.14\n",
    "log = '128.0.0.1 - - [12/Feb/2011:10:31:08 -0600] \"GET /docs/test.txt HTTP/1.0\"'\n",
    "address = log.split()[0]\n",
    "date = log[log.find(\"[\")+1:log.find(\"]\")]\n",
    "print(address)\n",
    "print(date)"
   ]
  },
  {
   "cell_type": "code",
   "execution_count": 85,
   "metadata": {},
   "outputs": [
    {
     "name": "stdout",
     "output_type": "stream",
     "text": [
      "a) ['10', '20', '30', '40', '50', '60']\n",
      "b) ['10', '20', '30', '40', '50', '60']\n",
      "b) ['10', '20', '30', '40', '50', '60']\n",
      "b) ['10', '20', '30', '40', '50', '60']\n"
     ]
    }
   ],
   "source": [
    "#4.15\n",
    "s = '10 20 30 40 50 60'\n",
    "print('a)',s.split())\n",
    "s = '10,20,30,40,50,60'\n",
    "print('b)',s.split(sep=','))\n",
    "s = '10&20&30&40&50&60'\n",
    "print('b)',s.split(sep='&'))\n",
    "s = '10 - 20 - 30 - 40 - 50 - 60'\n",
    "print('b)',s.split(sep=' - '))"
   ]
  },
  {
   "cell_type": "code",
   "execution_count": 91,
   "metadata": {},
   "outputs": [
    {
     "name": "stdout",
     "output_type": "stream",
     "text": [
      "Enter first word: Apple\n",
      "Enter second word: Banana\n",
      "Enter third word: Guava\n",
      "True\n"
     ]
    }
   ],
   "source": [
    "#4.16\n",
    "word1 = str(input(\"Enter first word: \"))\n",
    "word2 = str(input(\"Enter second word: \"))\n",
    "word3 = str(input(\"Enter third word: \"))\n",
    "if word1 < word2 and word2 < word3 :\n",
    "    print('True')\n",
    "else:\n",
    "    print('False')"
   ]
  },
  {
   "cell_type": "code",
   "execution_count": 96,
   "metadata": {},
   "outputs": [
    {
     "name": "stdout",
     "output_type": "stream",
     "text": [
      "b) 48\n",
      "c) 2\n",
      "d) The xxxxxx of this message is that it is xxxxxx.\n"
     ]
    }
   ],
   "source": [
    "#4.17\n",
    "message = 'The secret of this message is that it is secret.'\n",
    "print('b)', len(message))\n",
    "print('c)',message.count(\"secret\"))\n",
    "print('d)',message.replace(\"secret\",\"xxxxxx\"))\n"
   ]
  },
  {
   "cell_type": "code",
   "execution_count": 116,
   "metadata": {},
   "outputs": [
    {
     "name": "stdout",
     "output_type": "stream",
     "text": [
      "a) It was the best of times  it was the worst of times  it was the age of wisdom  it was the age of foolishness  it was the epoch of belief  it was the epoch of incredulity  it was     \n",
      "b) It was the best of times  it was the worst of times  it was the age of wisdom  it was the age of foolishness  it was the epoch of belief  it was the epoch of incredulity  it was\n",
      "c) it was the best of times  it was the worst of times  it was the age of wisdom  it was the age of foolishness  it was the epoch of belief  it was the epoch of incredulity  it was     \n",
      "d) 6\n",
      "e) It is the best of times  it is the worst of times  it is the age of wisdom  it is the age of foolishness  it is the epoch of belief  it is the epoch of incredulity  it is     \n",
      "f) ['It', 'is', 'the', 'best', 'of', 'times', 'it', 'is', 'the', 'worst', 'of', 'times', 'it', 'is', 'the', 'age', 'of', 'wisdom', 'it', 'is', 'the', 'age', 'of', 'foolishness', 'it', 'is', 'the', 'epoch', 'of', 'belief', 'it', 'is', 'the', 'epoch', 'of', 'incredulity', 'it', 'is']\n"
     ]
    }
   ],
   "source": [
    "#4.18\n",
    "s = '''It was the best of times, it was the worst of times; it\n",
    "was the age of wisdom, it was the age of foolishness; it was the\n",
    "epoch of belief, it was the epoch of incredulity; it was ... '''\n",
    "\n",
    "table = s.maketrans( '.,;\\n','    ')\n",
    "newS = s.translate(table)\n",
    "print('a)',newS)\n",
    "print('b)',newS.strip())\n",
    "print('c)',newS.lower())\n",
    "print('d)',newS.count('it was'))\n",
    "newS = newS.replace('was','is')\n",
    "print('e)',newS)\n",
    "listS = newS.split()\n",
    "print('f)',listS)"
   ]
  },
  {
   "cell_type": "code",
   "execution_count": 128,
   "metadata": {},
   "outputs": [
    {
     "name": "stdout",
     "output_type": "stream",
     "text": [
      "a) Sigel, Marlena Mae\n",
      "b) Sigel, Marlena M.\n",
      "b) Marlena, M. Sigel\n",
      "d) M. M. Sigel\n",
      "e) Sigel, M.\n"
     ]
    }
   ],
   "source": [
    "#4.19\n",
    "first = 'Marlena'\n",
    "last = 'Sigel'\n",
    "middle = 'Mae'\n",
    "print(\"a) {1}, {0} {2}\".format(first,last,middle))\n",
    "print(\"b) {1}, {0} {2}.\".format(first,last,middle[0]))\n",
    "print(\"b) {0}, {2}. {1}\".format(first,last,middle[0]))\n",
    "print(\"d) {0}. {2}. {1}\".format(first[0],last,middle[0]))\n",
    "print(\"e) {1}, {0}.\".format(first[0],last))"
   ]
  },
  {
   "cell_type": "code",
   "execution_count": 129,
   "metadata": {},
   "outputs": [
    {
     "name": "stdout",
     "output_type": "stream",
     "text": [
      "From: tim@abc.com\n",
      "To: tom@xyz.org\n",
      "Subject: Hello!\n"
     ]
    }
   ],
   "source": [
    "#4.20\n",
    "sender = 'tim@abc.com'\n",
    "recipient = 'tom@xyz.org'\n",
    "subject = 'Hello!'\n",
    "print(\"From: {0}\\nTo: {1}\\nSubject: {2}\".format(sender,recipient,subject))"
   ]
  },
  {
   "cell_type": "code",
   "execution_count": 135,
   "metadata": {},
   "outputs": [
    {
     "name": "stdout",
     "output_type": "stream",
     "text": [
      "a) pi = 3.1 , e = 2.7\n",
      "b) pi = 3.14 , e = 2.72\n",
      "c) pi = 3.141593e+00 , e = 2.718282e+00\n",
      "d) pi = 3.14159 , e = 2.71828\n"
     ]
    }
   ],
   "source": [
    "#4.21\n",
    "from math import pi,e\n",
    "print('a) pi = {0:.{1}f} , e = {2:.{1}f}'.format(pi,1,e))\n",
    "print('b) pi = {0:.{1}f} , e = {2:.{1}f}'.format(pi,2,e))\n",
    "print('c) pi = {0:e} , e = {2:e}'.format(pi,1,e))\n",
    "print('d) pi = {0:.{1}f} , e = {2:.{1}f}'.format(pi,5,e))"
   ]
  },
  {
   "cell_type": "code",
   "execution_count": 137,
   "metadata": {},
   "outputs": [
    {
     "data": {
      "text/plain": [
       "'mar'"
      ]
     },
     "execution_count": 137,
     "metadata": {},
     "output_type": "execute_result"
    }
   ],
   "source": [
    "#4.22\n",
    "def month(x):\n",
    "    months = ['','jan','feb','mar','apr','may','jun','july','aug','sep','oct','nov',\"dec\"]\n",
    "    return months[x]\n",
    "month(3)"
   ]
  },
  {
   "cell_type": "code",
   "execution_count": 142,
   "metadata": {},
   "outputs": [
    {
     "name": "stdout",
     "output_type": "stream",
     "text": [
      "Enter Sentence : My name is Abdul Wahab\n"
     ]
    },
    {
     "data": {
      "text/plain": [
       "3.6"
      ]
     },
     "execution_count": 142,
     "metadata": {},
     "output_type": "execute_result"
    }
   ],
   "source": [
    "#4.23\n",
    "def average():\n",
    "    sum1=0\n",
    "    sentence = input(\"Enter Sentence : \")\n",
    "    words = sentence.split()\n",
    "    for word in words:\n",
    "        sum1= sum1+ len(word)\n",
    "    return sum1/len(words)\n",
    "average()"
   ]
  },
  {
   "cell_type": "code",
   "execution_count": 144,
   "metadata": {},
   "outputs": [
    {
     "name": "stdout",
     "output_type": "stream",
     "text": [
      "How do you spell winner?\n",
      "I know, I know!\n",
      "U I T I A N S !\n",
      "And that 's how you spell winner!\n",
      "Go UITIANS!\n"
     ]
    }
   ],
   "source": [
    "#4.24\n",
    "def cheers(name):\n",
    "    print(\"How do you spell winner?\")\n",
    "    print(\"I know, I know!\")\n",
    "    for i in name:\n",
    "        print(i.upper(),end=\" \")\n",
    "    print(\"!\")\n",
    "    print(\"And that 's how you spell winner!\")\n",
    "    print(\"Go \"+name+\"!\")\n",
    "cheers('UITIANS')"
   ]
  },
  {
   "cell_type": "code",
   "execution_count": 150,
   "metadata": {},
   "outputs": [
    {
     "name": "stdout",
     "output_type": "stream",
     "text": [
      "a, e, i, o, and u appear, respectively, 4, 1, 1, 0, 1 times.\n"
     ]
    }
   ],
   "source": [
    "#4.25\n",
    "def vowelcount(sentence):\n",
    "    z = sentence.casefold()\n",
    "    a = z.count('a')\n",
    "    e = z.count('e')\n",
    "    i = z.count('i')\n",
    "    o = z.count('o')\n",
    "    u = z.count('u')\n",
    "    print(\"a, e, i, o, and u appear, respectively, {0}, {1}, {2}, {3}, {4} times.\".format(a,e,i,o,u))\n",
    "vowelcount(\"My Name is Abdul Wahab\")"
   ]
  },
  {
   "cell_type": "code",
   "execution_count": 151,
   "metadata": {},
   "outputs": [
    {
     "name": "stdout",
     "output_type": "stream",
     "text": [
      "This xxxxxx is between us \n",
      "This xxxxxx will be kept until we die\n",
      "xxxxxx \n"
     ]
    }
   ],
   "source": [
    "#4.26\n",
    "def crypto(filename):\n",
    "    infile = open(filename,\"r\")\n",
    "    text = infile.read()\n",
    "    text = text.replace(\"secret\",\"xxxxxx\")\n",
    "    print(text)\n",
    "crypto('crypto.txt')"
   ]
  },
  {
   "cell_type": "code",
   "execution_count": 153,
   "metadata": {},
   "outputs": [],
   "source": [
    "#4.27\n",
    "def fcopy(file1,file2):\n",
    "    infile1 = open(file1,\"r\")\n",
    "    content = infile1.read()\n",
    "    infile1.close()\n",
    "    outfile = open(file2,\"w\")\n",
    "    outfile.write(content)\n",
    "    outfile.close()\n",
    "fcopy('crypto.txt','output.txt')"
   ]
  },
  {
   "cell_type": "code",
   "execution_count": 157,
   "metadata": {},
   "outputs": [
    {
     "data": {
      "text/plain": [
       "54"
      ]
     },
     "execution_count": 157,
     "metadata": {},
     "output_type": "execute_result"
    }
   ],
   "source": [
    "#2.28\n",
    "def links(file):\n",
    "    infile = open(file,\"r\")\n",
    "    content = infile.read()\n",
    "    infile.close()\n",
    "    return content.count(\"</a>\")\n",
    "links('Google.html')"
   ]
  },
  {
   "cell_type": "code",
   "execution_count": 160,
   "metadata": {},
   "outputs": [
    {
     "name": "stdout",
     "output_type": "stream",
     "text": [
      "Number of lines :  3\n",
      "Number of characters :  111\n",
      "Number of Words :  16\n"
     ]
    }
   ],
   "source": [
    "#2.29\n",
    "def stats(filename):\n",
    "    infile = open(filename,'r')\n",
    "    content = infile.read()\n",
    "    lines = content.count('\\n')+1\n",
    "    words = content.split()\n",
    "    print(\"Number of lines : \",lines)\n",
    "    print(\"Number of characters : \",len(content))\n",
    "    print(\"Number of Words : \",len(words))\n",
    "stats('sentence.txt')"
   ]
  },
  {
   "cell_type": "code",
   "execution_count": 161,
   "metadata": {},
   "outputs": [
    {
     "name": "stdout",
     "output_type": "stream",
     "text": [
      "6  Students got A\n",
      "3  Students got A-\n",
      "3  Students got B+\n",
      "3  Students got B\n",
      "5  Students got B-\n",
      "2  Students got C\n",
      "3  Students got C-\n",
      "3  Students got F\n"
     ]
    }
   ],
   "source": [
    "#4.30\n",
    "\n",
    "def distribution(y):\n",
    "    infile = open(y,'r')\n",
    "    file = infile.read()\n",
    "    z = file.split()\n",
    "    print(z.count(\"A\"),' Students got A')\n",
    "    print(z.count(\"A-\"),' Students got A-')\n",
    "    print(z.count(\"B+\"),' Students got B+')\n",
    "    print(z.count(\"B\"),' Students got B')\n",
    "    print(z.count(\"B-\"),' Students got B-')\n",
    "    print(z.count(\"C\"),' Students got C')\n",
    "    print(z.count(\"C-\"),' Students got C-')\n",
    "    print(z.count(\"F\"),' Students got F')\n",
    "    \n",
    "distribution('grades.txt')"
   ]
  },
  {
   "cell_type": "code",
   "execution_count": 162,
   "metadata": {},
   "outputs": [
    {
     "data": {
      "text/plain": [
       "'False'"
      ]
     },
     "execution_count": 162,
     "metadata": {},
     "output_type": "execute_result"
    }
   ],
   "source": [
    "#4.31\n",
    "def duplicate(a):\n",
    "    infile = open(a,'r')\n",
    "    file = infile.read()\n",
    "    z = file.split()\n",
    "    y = []\n",
    "    for i in z :\n",
    "        if i in y:\n",
    "            return(\"False\")\n",
    "         \n",
    "        else:\n",
    "            c = y.append(i)\n",
    "    return(\"True\")\n",
    "        \n",
    "duplicate('sentence.txt')  "
   ]
  },
  {
   "cell_type": "code",
   "execution_count": 163,
   "metadata": {},
   "outputs": [],
   "source": [
    "#4.32\n",
    "#Question 4\n",
    "def abc(x):\n",
    "    file = open(x,'r+')\n",
    "    filer = file.read()\n",
    "    z = filer.split()\n",
    "    file.write('\\n')\n",
    "    for i in z:\n",
    "        if len(i)==4:\n",
    "            i = 'xxxx'\n",
    "            file.write(\"{0} \".format(i))\n",
    "            \n",
    "        else:\n",
    "            file.write(\"{0} \".format(i))\n",
    "abc('crypto.txt')"
   ]
  }
 ],
 "metadata": {
  "kernelspec": {
   "display_name": "Python 3",
   "language": "python",
   "name": "python3"
  },
  "language_info": {
   "codemirror_mode": {
    "name": "ipython",
    "version": 3
   },
   "file_extension": ".py",
   "mimetype": "text/x-python",
   "name": "python",
   "nbconvert_exporter": "python",
   "pygments_lexer": "ipython3",
   "version": "3.7.3"
  }
 },
 "nbformat": 4,
 "nbformat_minor": 2
}
